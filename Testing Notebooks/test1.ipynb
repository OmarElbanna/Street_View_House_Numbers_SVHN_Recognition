{
 "cells": [
  {
   "cell_type": "code",
   "execution_count": 44,
   "id": "12ca1e17",
   "metadata": {},
   "outputs": [],
   "source": [
    "# Load the test image using OpenCV's imread() function.\n",
    "import cv2\n",
    "\n",
    "img = cv2.imread('/Users/philosamuel/Downloads/PROJECTS SP_23/VISION/131.png')"
   ]
  },
  {
   "cell_type": "code",
   "execution_count": 45,
   "id": "06c39120",
   "metadata": {},
   "outputs": [
    {
     "name": "stdout",
     "output_type": "stream",
     "text": [
      "/Users/philosamuel/Downloads/PROJECTS SP_23/VISION\n"
     ]
    }
   ],
   "source": [
    "import os\n",
    "\n",
    "print(os.getcwd())  # Print the current working directory\n"
   ]
  },
  {
   "cell_type": "code",
   "execution_count": 46,
   "id": "3d20b937",
   "metadata": {},
   "outputs": [],
   "source": [
    "#Convert the image to grayscale using OpenCV's cvtColor() function.\n",
    "gray = cv2.cvtColor(img, cv2.COLOR_BGR2GRAY)"
   ]
  },
  {
   "cell_type": "code",
   "execution_count": 47,
   "id": "79da0a59",
   "metadata": {},
   "outputs": [],
   "source": [
    "#Apply a threshold to the image to make the digits more prominent using OpenCV's threshold() function\n",
    "ret, thresh = cv2.threshold(gray, 0, 255, cv2.THRESH_BINARY_INV + cv2.THRESH_OTSU)"
   ]
  },
  {
   "cell_type": "code",
   "execution_count": 48,
   "id": "3a801a63",
   "metadata": {},
   "outputs": [],
   "source": [
    "#Find contours in the image using OpenCV's findContours() function.\n",
    "contours, hierarchy = cv2.findContours(thresh, cv2.RETR_EXTERNAL, cv2.CHAIN_APPROX_SIMPLE)"
   ]
  },
  {
   "cell_type": "code",
   "execution_count": 49,
   "id": "083f8c0a",
   "metadata": {},
   "outputs": [],
   "source": [
    "digits = []\n",
    "for contour in contours:\n",
    "    x, y, w, h = cv2.boundingRect(contour)\n",
    "    if w > 10 and h > 10:\n",
    "        digits.append((x, y, w, h))"
   ]
  },
  {
   "cell_type": "code",
   "execution_count": 50,
   "id": "91d78368",
   "metadata": {},
   "outputs": [],
   "source": [
    "#Loop through the contours and filter out the ones that are too small to be digits.\n",
    "digits = sorted(digits, key=lambda x: x[0])"
   ]
  },
  {
   "cell_type": "code",
   "execution_count": 51,
   "id": "0ec7401d",
   "metadata": {},
   "outputs": [],
   "source": [
    "#Sort the digits from left to right based on their x-coordinate.\n",
    "for i, digit in enumerate(digits):\n",
    "    x, y, w, h = digit\n",
    "    roi = img[y:y+h, x:x+w]\n",
    "    cv2.imwrite(f'digit_{i}.png', roi)\n",
    "    # Read and show the digit image\n",
    "    digit_img = cv2.imread(f'digit_{i}.png')\n",
    "    cv2.imshow('Digit', digit_img)\n",
    "    cv2.waitKey(5000)  # Display the image for 5000 milliseconds (5 seconds) or until a key is pressed"
   ]
  },
  {
   "cell_type": "code",
   "execution_count": null,
   "id": "f159bce0",
   "metadata": {},
   "outputs": [],
   "source": []
  }
 ],
 "metadata": {
  "kernelspec": {
   "display_name": "Python 3 (ipykernel)",
   "language": "python",
   "name": "python3"
  },
  "language_info": {
   "codemirror_mode": {
    "name": "ipython",
    "version": 3
   },
   "file_extension": ".py",
   "mimetype": "text/x-python",
   "name": "python",
   "nbconvert_exporter": "python",
   "pygments_lexer": "ipython3",
   "version": "3.9.13"
  }
 },
 "nbformat": 4,
 "nbformat_minor": 5
}
