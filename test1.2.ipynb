{
 "cells": [
  {
   "cell_type": "code",
   "execution_count": null,
   "id": "f8653a4e",
   "metadata": {},
   "outputs": [],
   "source": [
    "# try to use one from these 2 algos\n",
    "# Edge detection + contour detection: Edge detection is a fundamental image processing technique that involves \n",
    "# detecting edges in an image. Once the edges are detected, you can use contour detection to identify the boundaries \n",
    "# of the digits in the image. This approach can be implemented using OpenCV, a popular computer vision library.\n",
    "\n",
    "# Connected component analysis: Connected component analysis is a basic image processing technique that involves \n",
    "# grouping pixels into connected regions based on their intensity values. In the case of the SVHN dataset, you can \n",
    "# use connected component analysis to identify the individual digits in the image. This approach can also be \n",
    "# implemented using OpenCV."
   ]
  },
  {
   "cell_type": "code",
   "execution_count": 3,
   "id": "b3a8b011",
   "metadata": {},
   "outputs": [
    {
     "name": "stdout",
     "output_type": "stream",
     "text": [
      "Collecting opencv-python\n",
      "  Using cached opencv_python-4.7.0.72-cp37-abi3-macosx_11_0_arm64.whl (32.6 MB)\n",
      "Requirement already satisfied: numpy>=1.19.3 in /Users/philosamuel/opt/anaconda3/lib/python3.9/site-packages (from opencv-python) (1.21.5)\n",
      "Installing collected packages: opencv-python\n",
      "Successfully installed opencv-python-4.7.0.72\n"
     ]
    }
   ],
   "source": [
    "!pip install opencv-python"
   ]
  },
  {
   "cell_type": "code",
   "execution_count": 8,
   "id": "3ada4a54",
   "metadata": {},
   "outputs": [],
   "source": [
    "import cv2\n",
    "import numpy as np\n",
    "import matplotlib.pyplot as plt\n",
    "from sklearn import datasets"
   ]
  },
  {
   "cell_type": "code",
   "execution_count": 9,
   "id": "47826e36",
   "metadata": {},
   "outputs": [],
   "source": [
    "# Load digits dataset from sklearn\n",
    "digits = datasets.load_digits()"
   ]
  },
  {
   "cell_type": "code",
   "execution_count": 10,
   "id": "a3abc0fd",
   "metadata": {},
   "outputs": [],
   "source": [
    "# Split dataset into images and their corresponding labels\n",
    "images = digits.images\n",
    "labels = digits.target"
   ]
  },
  {
   "cell_type": "code",
   "execution_count": 14,
   "id": "d0ffabf7",
   "metadata": {},
   "outputs": [],
   "source": [
    "########################################################"
   ]
  },
  {
   "cell_type": "code",
   "execution_count": 18,
   "id": "7f86fa26",
   "metadata": {},
   "outputs": [
    {
     "ename": "NameError",
     "evalue": "name 'predict_digit_label' is not defined",
     "output_type": "error",
     "traceback": [
      "\u001b[0;31m---------------------------------------------------------------------------\u001b[0m",
      "\u001b[0;31mNameError\u001b[0m                                 Traceback (most recent call last)",
      "Input \u001b[0;32mIn [18]\u001b[0m, in \u001b[0;36m<cell line: 31>\u001b[0;34m()\u001b[0m\n\u001b[1;32m     36\u001b[0m roi \u001b[38;5;241m=\u001b[39m cv2\u001b[38;5;241m.\u001b[39mresize(roi, (\u001b[38;5;241m28\u001b[39m, \u001b[38;5;241m28\u001b[39m))\n\u001b[1;32m     38\u001b[0m \u001b[38;5;66;03m# Apply any necessary preprocessing to ROI\u001b[39;00m\n\u001b[1;32m     39\u001b[0m \n\u001b[1;32m     40\u001b[0m \u001b[38;5;66;03m# Pass ROI to digit recognition model to predict digit label\u001b[39;00m\n\u001b[0;32m---> 41\u001b[0m digit_label \u001b[38;5;241m=\u001b[39m \u001b[43mpredict_digit_label\u001b[49m(roi)\n\u001b[1;32m     43\u001b[0m \u001b[38;5;66;03m# Draw predicted digit label on original image\u001b[39;00m\n\u001b[1;32m     44\u001b[0m cv2\u001b[38;5;241m.\u001b[39mrectangle(image, (x, y), (x \u001b[38;5;241m+\u001b[39m w, y \u001b[38;5;241m+\u001b[39m h), (\u001b[38;5;241m0\u001b[39m, \u001b[38;5;241m255\u001b[39m, \u001b[38;5;241m0\u001b[39m), \u001b[38;5;241m2\u001b[39m)\n",
      "\u001b[0;31mNameError\u001b[0m: name 'predict_digit_label' is not defined"
     ]
    }
   ],
   "source": [
    "import cv2\n",
    "import numpy as np\n",
    "\n",
    "# Load test image\n",
    "image = cv2.imread('131.png')\n",
    "\n",
    "# Convert image to grayscale\n",
    "gray = cv2.cvtColor(image, cv2.COLOR_BGR2GRAY)\n",
    "\n",
    "# Apply Gaussian blur to reduce noise\n",
    "gray_blur = cv2.GaussianBlur(gray, (5, 5), 0)\n",
    "\n",
    "# Apply adaptive thresholding to separate digits from background\n",
    "thresh = cv2.adaptiveThreshold(gray_blur, 255, cv2.ADAPTIVE_THRESH_GAUSSIAN_C, cv2.THRESH_BINARY_INV, 11, 2)\n",
    "\n",
    "# Find contours in thresholded image\n",
    "contours, _ = cv2.findContours(thresh, cv2.RETR_EXTERNAL, cv2.CHAIN_APPROX_SIMPLE)\n",
    "\n",
    "# Set digit size range for filtering contours\n",
    "MIN_DIGIT_SIZE = 10\n",
    "MAX_DIGIT_SIZE = 100\n",
    "\n",
    "# Loop over contours and filter out non-digit contours\n",
    "digit_contours = []\n",
    "for contour in contours:\n",
    "    (x, y, w, h) = cv2.boundingRect(contour)\n",
    "    if w * h > MIN_DIGIT_SIZE and w * h < MAX_DIGIT_SIZE:\n",
    "        digit_contours.append(contour)\n",
    "\n",
    "# Loop over remaining digit contours and extract ROIs\n",
    "for contour in digit_contours:\n",
    "    (x, y, w, h) = cv2.boundingRect(contour)\n",
    "    roi = thresh[y:y + h, x:x + w]\n",
    "    \n",
    "    # Resize ROI to fixed size\n",
    "    roi = cv2.resize(roi, (28, 28))\n",
    "    \n",
    "    # Apply any necessary preprocessing to ROI\n",
    "    \n",
    "    # Pass ROI to digit recognition model to predict digit label\n",
    "    digit_label = predict_digit_label(roi)\n",
    "    \n",
    "    # Draw predicted digit label on original image\n",
    "    cv2.rectangle(image, (x, y), (x + w, y + h), (0, 255, 0), 2)\n",
    "    cv2.putText(image, str(digit_label), (x, y - 10), cv2.FONT_HERSHEY_SIMPLEX, 1, (0, 255, 0), 2)\n",
    "\n",
    "# Show image with digit labels\n",
    "cv2.imshow('Digits', image)\n",
    "cv2.waitKey(0)\n",
    "cv2.destroyAllWindows()"
   ]
  },
  {
   "cell_type": "markdown",
   "id": "8c523312",
   "metadata": {},
   "source": [
    "# Drawing Contours\n",
    "Read the Image and convert it to Grayscale Format\n",
    "Apply Binary Thresholding\n",
    "Find the Contours\n",
    "Draw Contours on the Original RGB Image."
   ]
  },
  {
   "cell_type": "code",
   "execution_count": null,
   "id": "71d5676f",
   "metadata": {},
   "outputs": [],
   "source": [
    "import cv2\n",
    "import numpy\n",
    "# read the image\n",
    "image = cv2.imread('/Users/philosamuel/Downloads/PROJECTS SP_23/VISION/131.png')"
   ]
  },
  {
   "cell_type": "code",
   "execution_count": 3,
   "id": "68ed5007",
   "metadata": {},
   "outputs": [],
   "source": [
    "# convert the image to grayscale format\n",
    "img_gray = cv2.cvtColor(image, cv2.COLOR_BGR2GRAY)"
   ]
  },
  {
   "cell_type": "code",
   "execution_count": null,
   "id": "f9e02627",
   "metadata": {},
   "outputs": [],
   "source": [
    "# apply binary thresholding\n",
    "ret, thresh = cv2.threshold(img_gray, 150, 255, cv2.THRESH_BINARY)\n",
    "\n",
    "# visualize the binary image\n",
    "cv2.imshow('Binary image', thresh)\n",
    "cv2.waitKey(0)\n",
    "cv2.imwrite('image_thres1.jpg', thresh)\n",
    "cv2.destroyAllWindows()"
   ]
  },
  {
   "cell_type": "code",
   "execution_count": 5,
   "id": "957a4701",
   "metadata": {},
   "outputs": [],
   "source": []
  },
  {
   "cell_type": "code",
   "execution_count": null,
   "id": "0b886a33",
   "metadata": {},
   "outputs": [],
   "source": []
  }
 ],
 "metadata": {
  "kernelspec": {
   "display_name": "Python 3 (ipykernel)",
   "language": "python",
   "name": "python3"
  },
  "language_info": {
   "codemirror_mode": {
    "name": "ipython",
    "version": 3
   },
   "file_extension": ".py",
   "mimetype": "text/x-python",
   "name": "python",
   "nbconvert_exporter": "python",
   "pygments_lexer": "ipython3",
   "version": "3.9.13"
  }
 },
 "nbformat": 4,
 "nbformat_minor": 5
}
