{
 "cells": [
  {
   "cell_type": "markdown",
   "id": "01b6f384",
   "metadata": {},
   "source": [
    "# Testing SVHN Localization Accuracy"
   ]
  },
  {
   "cell_type": "markdown",
   "id": "4acac47b",
   "metadata": {},
   "source": [
    "## Importing Libraries"
   ]
  },
  {
   "cell_type": "code",
   "execution_count": 1,
   "id": "55bd0352",
   "metadata": {},
   "outputs": [],
   "source": [
    "from collections import namedtuple\n",
    "import random\n",
    "import cv2\n",
    "import numpy as np\n",
    "import pandas as pd\n",
    "import matplotlib.pyplot as plt\n",
    "import imutils"
   ]
  },
  {
   "cell_type": "markdown",
   "id": "41e1f47b",
   "metadata": {},
   "source": [
    "## Defining a Function to Grab Ground Truth Bounding Boxes"
   ]
  },
  {
   "cell_type": "code",
   "execution_count": 2,
   "id": "4584b5c9",
   "metadata": {},
   "outputs": [],
   "source": [
    "def get_gt_contours(i,digitStruct):\n",
    "    gt_contours = []\n",
    "    boxes = digitStruct.loc[f'{str(i)}.png', 'boxes']\n",
    "    for box in boxes:\n",
    "        x = box['left']\n",
    "        y = box['top']\n",
    "        w = box['width']\n",
    "        h = box['height']\n",
    "        gt_contours.append([x, y, x+w, y+h])\n",
    "    return gt_contours"
   ]
  },
  {
   "cell_type": "markdown",
   "id": "ee7b9547",
   "metadata": {},
   "source": [
    "## Defining a Function to Calculate Intersection Over Uinion Between 2 Boxes"
   ]
  },
  {
   "cell_type": "code",
   "execution_count": 3,
   "id": "991c8070",
   "metadata": {},
   "outputs": [],
   "source": [
    "def bb_intersection_over_union(boxA, boxB):\n",
    "    # determine the (x, y)-coordinates of the intersection rectangle\n",
    "    xA = max(boxA[0], boxB[0])\n",
    "    yA = max(boxA[1], boxB[1])\n",
    "    xB = min(boxA[2], boxB[2])\n",
    "    yB = min(boxA[3], boxB[3])\n",
    "    \n",
    "    # compute the area of intersection rectangle\n",
    "    interArea = max(0, xB - xA + 1) * max(0, yB - yA + 1)\n",
    "    \n",
    "    # compute the area of both the prediction and ground-truth\n",
    "    # rectangles\n",
    "    boxAArea = (boxA[2] - boxA[0] + 1) * (boxA[3] - boxA[1] + 1)\n",
    "    boxBArea = (boxB[2] - boxB[0] + 1) * (boxB[3] - boxB[1] + 1)\n",
    "    # compute the intersection over union by taking the intersection\n",
    "    # area and dividing it by the sum of prediction + ground-truth\n",
    "    # areas - the interesection area\n",
    "    iou = interArea / float(boxAArea + boxBArea - interArea)\n",
    "    # return the intersection over union value\n",
    "    return iou"
   ]
  },
  {
   "cell_type": "markdown",
   "id": "79b29dd5",
   "metadata": {},
   "source": [
    "## Defining a Function to Remove Dublicated Contours"
   ]
  },
  {
   "cell_type": "code",
   "execution_count": 4,
   "id": "5ba5744f",
   "metadata": {},
   "outputs": [],
   "source": [
    "def removeDuplicateContours(pred_contours):\n",
    "    # Corner Case: Image has only 1 digit and 1 contour predicted \n",
    "    if(len(pred_contours)==1):\n",
    "        return pred_contours\n",
    "    \n",
    "    \n",
    "    filtered_contours = []\n",
    "    #pred_contours = [list(x) for x in set([tuple(L) for L in pred_contours])]\n",
    "    i=0\n",
    "    while(i<len(pred_contours)):\n",
    "        filtered_contours.append(pred_contours[i])\n",
    "        # Corner Case: Last two contours are not duplicates\n",
    "        if i == len(pred_contours)-1:\n",
    "            break    \n",
    "        j=i+1\n",
    "        while(j<len(pred_contours)):\n",
    "            iou = bb_intersection_over_union(pred_contours[i], pred_contours[j])\n",
    "            if iou>0.8:\n",
    "                pred_contours.pop(j)  \n",
    "            j+=1\n",
    "        i+=1     \n",
    "    return filtered_contours"
   ]
  },
  {
   "cell_type": "markdown",
   "id": "305df83b",
   "metadata": {},
   "source": [
    "## Defining a Function to Test Accuracy"
   ]
  },
  {
   "cell_type": "code",
   "execution_count": 6,
   "id": "f0ef8122",
   "metadata": {},
   "outputs": [],
   "source": [
    "def test_accuracy(dataset,images_number):\n",
    "    digitStruct = pd.read_json(f'data/{dataset}/digitStruct.json')\n",
    "    digitStruct.set_index('filename', inplace=True)\n",
    "    tot_p = 0\n",
    "    tot_r = 0\n",
    "    tot_f1 = 0\n",
    "    # clahe = cv2.createCLAHE(clipLimit=1, tileGridSize=(5,5))\n",
    "    for i in range(1,images_number+1):\n",
    "        img = cv2.imread(f'data/{dataset}/{i}.png')\n",
    "        height = img.shape[0]\n",
    "        width = img.shape[1]\n",
    "        bfilter= cv2.bilateralFilter(img,11,17,17)\n",
    "        gray = cv2.cvtColor(bfilter,cv2.COLOR_BGR2GRAY)\n",
    "        edges = cv2.Canny(gray,30,150)\n",
    "        keypoints= cv2.findContours(edges, cv2.RETR_TREE, cv2.CHAIN_APPROX_SIMPLE)\n",
    "        contours=imutils.grab_contours(keypoints)\n",
    "        edged_cont = cv2.drawContours(img.copy(), contours, -1, (0,255,0), 1)\n",
    "        sorted_contours=sorted(contours,key=cv2.contourArea,reverse=True)\n",
    "\n",
    "        pred_contours = []\n",
    "        for contour in sorted_contours:\n",
    "            [x, y, w, h] = cv2.boundingRect(contour)\n",
    "            if ( (h*w > 0.015*height*width) and (y<0.5*height) and (0.25*width< x <0.75*width)):\n",
    "                pred_contours.append([x, y, x+w, y+h])\n",
    "\n",
    "        # pred_contours = [list(x) for x in set([tuple(L) for L in pred_contours])]\n",
    "        filtered_contours = removeDuplicateContours(pred_contours)\n",
    "\n",
    "        gt_contours = []\n",
    "        gt_contours = get_gt_contours(i,digitStruct)\n",
    "\n",
    "        match_contours = []\n",
    "        for contour in filtered_contours:\n",
    "            for gt_contour in gt_contours:\n",
    "                iou = bb_intersection_over_union(contour, gt_contour)\n",
    "                if iou > 0.4:\n",
    "                    match_contours.append({'box': contour, 'iou':iou})\n",
    "\n",
    "        if len(match_contours) > len(gt_contours):\n",
    "            match_contours = sorted(match_contours, key=lambda c: c['iou'], reverse=True)\n",
    "            match_contours = match_contours[:len(gt_contours)]\n",
    "\n",
    "\n",
    "        true_pos = len(match_contours)\n",
    "        false_pos = len(filtered_contours) - len(match_contours)\n",
    "        false_neg = len(gt_contours) - len(match_contours)\n",
    "\n",
    "        if (true_pos + false_pos)==0:\n",
    "            precision = 0\n",
    "        else:\n",
    "            precision = true_pos / (true_pos + false_pos)\n",
    "\n",
    "        recall = true_pos / (true_pos + false_neg)\n",
    "\n",
    "        if true_pos == 0:\n",
    "            f1_score = 0\n",
    "        else:\n",
    "            f1_score = (2*precision*recall) / (precision+recall)\n",
    "\n",
    "        tot_p += precision\n",
    "        tot_r += recall\n",
    "        tot_f1 += f1_score\n",
    "\n",
    "\n",
    "\n",
    "    tot_p/=images_number\n",
    "    tot_r/=images_number\n",
    "    tot_f1/=images_number   \n",
    "\n",
    "\n",
    "    print(f\"Total Precision: {tot_p*100:0.3f}%\")\n",
    "    print(f\"Total Recall: {tot_r*100:0.3f}%\")\n",
    "    print(f\"Total F1-Score: {tot_f1*100:0.3f}%\")"
   ]
  },
  {
   "cell_type": "markdown",
   "id": "9a5c6508",
   "metadata": {},
   "source": [
    "## Testing Accuracy on Training Dataset"
   ]
  },
  {
   "cell_type": "code",
   "execution_count": 7,
   "id": "920f2246",
   "metadata": {},
   "outputs": [
    {
     "name": "stdout",
     "output_type": "stream",
     "text": [
      "Total Precision: 49.946%\n",
      "Total Recall: 74.814%\n",
      "Total F1-Score: 56.907%\n"
     ]
    }
   ],
   "source": [
    "test_accuracy('train',33402)"
   ]
  },
  {
   "cell_type": "markdown",
   "id": "6ea0d601",
   "metadata": {},
   "source": [
    "## Testing Accuracy on Testing Dataset"
   ]
  },
  {
   "cell_type": "code",
   "execution_count": 8,
   "id": "b3ea98e2",
   "metadata": {},
   "outputs": [
    {
     "name": "stdout",
     "output_type": "stream",
     "text": [
      "Total Precision: 47.490%\n",
      "Total Recall: 62.636%\n",
      "Total F1-Score: 51.164%\n"
     ]
    }
   ],
   "source": [
    "test_accuracy('test',13068)"
   ]
  }
 ],
 "metadata": {
  "kernelspec": {
   "display_name": "Python 3 (ipykernel)",
   "language": "python",
   "name": "python3"
  },
  "language_info": {
   "codemirror_mode": {
    "name": "ipython",
    "version": 3
   },
   "file_extension": ".py",
   "mimetype": "text/x-python",
   "name": "python",
   "nbconvert_exporter": "python",
   "pygments_lexer": "ipython3",
   "version": "3.10.2"
  }
 },
 "nbformat": 4,
 "nbformat_minor": 5
}
