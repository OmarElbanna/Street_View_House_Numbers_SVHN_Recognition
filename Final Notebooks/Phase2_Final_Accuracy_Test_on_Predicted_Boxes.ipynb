{
 "cells": [
  {
   "cell_type": "markdown",
   "id": "75c0de64",
   "metadata": {},
   "source": [
    "# Testing Accuracy Using Predicted Boxes from Phase 1\n"
   ]
  },
  {
   "cell_type": "code",
   "execution_count": 1,
   "id": "fbb85664",
   "metadata": {},
   "outputs": [],
   "source": [
    "import cv2\n",
    "import numpy as np\n",
    "import pandas as  pd\n",
    "import matplotlib.pyplot as plt\n",
    "import random\n",
    "import glob\n",
    "import imutils\n",
    "from collections import namedtuple\n",
    "from utils import get_cropped_digits"
   ]
  },
  {
   "cell_type": "code",
   "execution_count": 9,
   "id": "6e421d30",
   "metadata": {},
   "outputs": [],
   "source": [
    "new_templates = []\n",
    "for i in range(2,92):\n",
    "    tmp = cv2.imread(f'NEW_NUMBERS/{i}.jpg')\n",
    "    gray = cv2.cvtColor(tmp, cv2.COLOR_BGR2GRAY)\n",
    "    thresh = cv2.adaptiveThreshold(gray,255,cv2.ADAPTIVE_THRESH_GAUSSIAN_C,cv2.THRESH_BINARY_INV,11,2)\n",
    "    new_templates.append(thresh)\n",
    "for row in range(1,11):\n",
    "    for col in range(1,11):\n",
    "        template = cv2.imread(f\"Templates/numbers/PineTools.com_2023-05-08_07h18m28s/PineTools.com_files/row-{row}-column-{col}.png\")\n",
    "        gray = cv2.cvtColor(template,cv2.COLOR_BGR2GRAY)\n",
    "        thresh = cv2.adaptiveThreshold(gray,255,cv2.ADAPTIVE_THRESH_GAUSSIAN_C,cv2.THRESH_BINARY_INV,11,2)\n",
    "        new_templates.append(thresh)\n",
    "        \n",
    "for row in [1,2,3,4,6]:\n",
    "    for col in range(0,10):\n",
    "        template = cv2.imread(f\"Templates/numbers/templates/row-{row}-column-{col}.png\")\n",
    "        gray = cv2.cvtColor(template,cv2.COLOR_BGR2GRAY)\n",
    "        thresh = cv2.adaptiveThreshold(gray,255,cv2.ADAPTIVE_THRESH_GAUSSIAN_C,cv2.THRESH_BINARY_INV,11,2)\n",
    "        new_templates.append(thresh)"
   ]
  },
  {
   "cell_type": "code",
   "execution_count": 3,
   "id": "41a7f458",
   "metadata": {},
   "outputs": [],
   "source": [
    "win_size = (20, 20)   \n",
    "block_size = (10, 10) \n",
    "block_stride = (5, 5) \n",
    "cell_size = (5, 5)    \n",
    "nbins = 9             \n",
    "hog = cv2.HOGDescriptor(win_size, block_size, block_stride, cell_size, nbins)"
   ]
  },
  {
   "cell_type": "code",
   "execution_count": 6,
   "id": "eeb43526",
   "metadata": {},
   "outputs": [],
   "source": [
    "def test_accuracy(images_number):\n",
    "    total_accuracy=0\n",
    "    for i in range(1,images_number+1):\n",
    "        img_accuracy=0\n",
    "        digits,labels = get_cropped_digits(i)\n",
    "        if len(digits) == 0:\n",
    "            continue\n",
    "        for j,digit in enumerate(digits):\n",
    "            score=0\n",
    "            label = labels[j]\n",
    "            try:\n",
    "                digit_resized = cv2.resize(digit, win_size)\n",
    "            except:\n",
    "                continue\n",
    "            digit_hog = hog.compute(digit_resized).reshape(-1)\n",
    "            scores = []\n",
    "            for i,template in enumerate(new_templates):\n",
    "                template_resized = cv2.resize(template, win_size)\n",
    "                template_hog = hog.compute(template_resized).reshape(-1)\n",
    "                score = np.dot(digit_hog, template_hog)\n",
    "                scores.append(score)\n",
    "            tmp = scores.index(max(scores))\n",
    "            if tmp%10 == label:\n",
    "                img_accuracy+=1\n",
    "        img_accuracy/=len(digits)\n",
    "        total_accuracy+=img_accuracy\n",
    "        \n",
    "\n",
    "    total_accuracy/=images_number\n",
    " \n",
    "\n",
    "    print(f\"Total Accuracy: {total_accuracy*100:0.3f}%\")"
   ]
  },
  {
   "cell_type": "code",
   "execution_count": 8,
   "id": "c7fa60f0",
   "metadata": {},
   "outputs": [
    {
     "name": "stdout",
     "output_type": "stream",
     "text": [
      "Total Accuracy: 43.517%\n"
     ]
    }
   ],
   "source": [
    "test_accuracy(1000)"
   ]
  }
 ],
 "metadata": {
  "kernelspec": {
   "display_name": "Python 3 (ipykernel)",
   "language": "python",
   "name": "python3"
  },
  "language_info": {
   "codemirror_mode": {
    "name": "ipython",
    "version": 3
   },
   "file_extension": ".py",
   "mimetype": "text/x-python",
   "name": "python",
   "nbconvert_exporter": "python",
   "pygments_lexer": "ipython3",
   "version": "3.10.2"
  }
 },
 "nbformat": 4,
 "nbformat_minor": 5
}
