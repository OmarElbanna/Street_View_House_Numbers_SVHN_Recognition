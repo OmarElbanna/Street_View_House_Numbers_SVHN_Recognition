{
 "cells": [
  {
   "cell_type": "code",
   "execution_count": 191,
   "id": "fbe14255",
   "metadata": {},
   "outputs": [],
   "source": [
    "import cv2\n",
    "import numpy as np\n",
    "import pandas as  pd\n",
    "import matplotlib.pyplot as plt\n",
    "i = 14"
   ]
  },
  {
   "cell_type": "code",
   "execution_count": 192,
   "id": "5808f343",
   "metadata": {},
   "outputs": [
    {
     "data": {
      "text/plain": [
       "<matplotlib.image.AxesImage at 0x1ed028308e0>"
      ]
     },
     "execution_count": 192,
     "metadata": {},
     "output_type": "execute_result"
    },
    {
     "data": {
      "image/png": "[encoded data removed]",
      "text/plain": [
       "<Figure size 432x288 with 1 Axes>"
      ]
     },
     "metadata": {
      "needs_background": "light"
     },
     "output_type": "display_data"
    }
   ],
   "source": [
    "img = cv2.imread(f'data/train/{i}.png')\n",
    "# bfilter= cv2.bilateralFilter(img,11,17,17)\n",
    "# gray = cv2.cvtColor(bfilter,cv2.COLOR_BGR2GRAY)\n",
    "# edges = cv2.Canny(gray,30,150)\n",
    "gray = cv2.cvtColor(img, cv2.COLOR_BGR2GRAY)\n",
    "thresh = cv2.adaptiveThreshold(gray, 255, 1, 1, 11, 2)\n",
    "# define the kernel\n",
    "kernel = np.ones((3, 3), np.uint8)\n",
    "  \n",
    "# opening the image\n",
    "opening = cv2.morphologyEx(thresh, cv2.MORPH_OPEN, kernel, iterations=1)\n",
    "\n",
    "# closing the image\n",
    "closing = cv2.morphologyEx(opening, cv2.MORPH_CLOSE, kernel, iterations=1)\n",
    "plt.imshow(closing,cmap='gray')"
   ]
  },
  {
   "cell_type": "code",
   "execution_count": 193,
   "id": "990bb792",
   "metadata": {},
   "outputs": [
    {
     "data": {
      "text/html": [
       "<div>\n",
       "<style scoped>\n",
       "    .dataframe tbody tr th:only-of-type {\n",
       "        vertical-align: middle;\n",
       "    }\n",
       "\n",
       "    .dataframe tbody tr th {\n",
       "        vertical-align: top;\n",
       "    }\n",
       "\n",
       "    .dataframe thead th {\n",
       "        text-align: right;\n",
       "    }\n",
       "</style>\n",
       "<table border=\"1\" class=\"dataframe\">\n",
       "  <thead>\n",
       "    <tr style=\"text-align: right;\">\n",
       "      <th></th>\n",
       "      <th>boxes</th>\n",
       "    </tr>\n",
       "    <tr>\n",
       "      <th>filename</th>\n",
       "      <th></th>\n",
       "    </tr>\n",
       "  </thead>\n",
       "  <tbody>\n",
       "    <tr>\n",
       "      <th>1.png</th>\n",
       "      <td>[{'height': 219.0, 'label': 1.0, 'left': 246.0...</td>\n",
       "    </tr>\n",
       "    <tr>\n",
       "      <th>2.png</th>\n",
       "      <td>[{'height': 32.0, 'label': 2.0, 'left': 77.0, ...</td>\n",
       "    </tr>\n",
       "    <tr>\n",
       "      <th>3.png</th>\n",
       "      <td>[{'height': 15.0, 'label': 2.0, 'left': 17.0, ...</td>\n",
       "    </tr>\n",
       "    <tr>\n",
       "      <th>4.png</th>\n",
       "      <td>[{'height': 34.0, 'label': 9.0, 'left': 57.0, ...</td>\n",
       "    </tr>\n",
       "    <tr>\n",
       "      <th>5.png</th>\n",
       "      <td>[{'height': 46.0, 'label': 3.0, 'left': 52.0, ...</td>\n",
       "    </tr>\n",
       "  </tbody>\n",
       "</table>\n",
       "</div>"
      ],
      "text/plain": [
       "                                                      boxes\n",
       "filename                                                   \n",
       "1.png     [{'height': 219.0, 'label': 1.0, 'left': 246.0...\n",
       "2.png     [{'height': 32.0, 'label': 2.0, 'left': 77.0, ...\n",
       "3.png     [{'height': 15.0, 'label': 2.0, 'left': 17.0, ...\n",
       "4.png     [{'height': 34.0, 'label': 9.0, 'left': 57.0, ...\n",
       "5.png     [{'height': 46.0, 'label': 3.0, 'left': 52.0, ..."
      ]
     },
     "execution_count": 193,
     "metadata": {},
     "output_type": "execute_result"
    }
   ],
   "source": [
    "digitStruct = pd.read_json('data/train/digitStruct.json')\n",
    "\n",
    "digitStruct.set_index('filename', inplace=True)\n",
    "\n",
    "digitStruct.head()"
   ]
  },
  {
   "cell_type": "code",
   "execution_count": 194,
   "id": "053a4481",
   "metadata": {},
   "outputs": [],
   "source": [
    "def get_gt_contours(i):\n",
    "    gt_contours = []\n",
    "    boxes = digitStruct.loc[f'{str(i)}.png', 'boxes']\n",
    "    for box in boxes:\n",
    "        x = box['left']\n",
    "        y = box['top']\n",
    "        w = box['width']\n",
    "        h = box['height']\n",
    "        gt_contours.append([x, y, x+w, y+h])\n",
    "    return gt_contours"
   ]
  },
  {
   "cell_type": "code",
   "execution_count": 195,
   "id": "4acead29",
   "metadata": {},
   "outputs": [
    {
     "name": "stdout",
     "output_type": "stream",
     "text": [
      "2\n"
     ]
    },
    {
     "data": {
      "text/plain": [
       "[[35.0, 2.0, 56.0, 44.0], [55.0, 2.0, 78.0, 44.0]]"
      ]
     },
     "execution_count": 195,
     "metadata": {},
     "output_type": "execute_result"
    }
   ],
   "source": [
    "gt_contours = get_gt_contours(i)\n",
    "print(len(gt_contours))\n",
    "gt_contours"
   ]
  },
  {
   "cell_type": "code",
   "execution_count": 196,
   "id": "9240c218",
   "metadata": {},
   "outputs": [
    {
     "data": {
      "text/plain": [
       "<matplotlib.image.AxesImage at 0x1ed1b14f5b0>"
      ]
     },
     "execution_count": 196,
     "metadata": {},
     "output_type": "execute_result"
    },
    {
     "data": {
      "image/png": "[encoded data removed]",
      "text/plain": [
       "<Figure size 432x288 with 1 Axes>"
      ]
     },
     "metadata": {
      "needs_background": "light"
     },
     "output_type": "display_data"
    }
   ],
   "source": [
    "gt_boxes = img.copy()\n",
    "for contour in gt_contours:\n",
    "    contour = list(map(int, contour)) # To cast all point values to integers (loaded from json file as float)\n",
    "    [x1, y1, x2, y2] = contour\n",
    "    cv2.rectangle(gt_boxes, (x1,y1), (x2,y2), (255,0,0), 1)\n",
    "plt.imshow(cv2.cvtColor(gt_boxes, cv2.COLOR_BGR2RGB))"
   ]
  },
  {
   "cell_type": "code",
   "execution_count": 197,
   "id": "1cf93c4e",
   "metadata": {},
   "outputs": [
    {
     "data": {
      "text/plain": [
       "[35, 2, 56, 44]"
      ]
     },
     "execution_count": 197,
     "metadata": {},
     "output_type": "execute_result"
    }
   ],
   "source": [
    "first_box = gt_contours[0]\n",
    "first_box = [int(i) for i in first_box]\n",
    "first_box"
   ]
  },
  {
   "cell_type": "code",
   "execution_count": 198,
   "id": "a4a400d7",
   "metadata": {},
   "outputs": [],
   "source": [
    "# first_digit = edges[first_box[1]:first_box[3],first_box[0]:first_box[2]]\n",
    "first_digit = closing[first_box[1]:first_box[3],first_box[0]:first_box[2]]\n"
   ]
  },
  {
   "cell_type": "code",
   "execution_count": 199,
   "id": "30076165",
   "metadata": {},
   "outputs": [
    {
     "name": "stdout",
     "output_type": "stream",
     "text": [
      "(50, 50)\n",
      "uint8\n"
     ]
    },
    {
     "data": {
      "image/png": "[encoded data removed]",
      "text/plain": [
       "<Figure size 432x288 with 1 Axes>"
      ]
     },
     "metadata": {
      "needs_background": "light"
     },
     "output_type": "display_data"
    }
   ],
   "source": [
    "first_digit = cv2.resize(first_digit,(50,50))\n",
    "plt.imshow(first_digit,cmap='gray')\n",
    "print(first_digit.shape)\n",
    "print(first_digit.dtype)"
   ]
  },
  {
   "cell_type": "code",
   "execution_count": 200,
   "id": "8b2f07fb",
   "metadata": {},
   "outputs": [],
   "source": [
    "templates = []\n",
    "for row in range(1,11):\n",
    "    for col in range(1,11):\n",
    "        template = cv2.imread(f\"Templates/numbers/PineTools.com_2023-05-08_07h18m28s/PineTools.com_files/row-{row}-column-{col}.png\")\n",
    "#         bfilter= cv2.bilateralFilter(template,11,17,17)\n",
    "        gray = cv2.cvtColor(template,cv2.COLOR_BGR2GRAY)\n",
    "#         edges = cv2.Canny(gray,30,150)\n",
    "        ret, img_thresh = cv2.threshold(gray, 127, 255, cv2.THRESH_BINARY_INV)\n",
    "        \n",
    "        templates.append(img_thresh)"
   ]
  },
  {
   "cell_type": "code",
   "execution_count": 201,
   "id": "a584d450",
   "metadata": {},
   "outputs": [
    {
     "name": "stdout",
     "output_type": "stream",
     "text": [
      "(45, 42)\n",
      "uint8\n"
     ]
    },
    {
     "data": {
      "image/png": "[encoded data removed]",
      "text/plain": [
       "<Figure size 432x288 with 1 Axes>"
      ]
     },
     "metadata": {
      "needs_background": "light"
     },
     "output_type": "display_data"
    }
   ],
   "source": [
    "plt.imshow(templates[35],cmap='gray')\n",
    "print(templates[35].shape)\n",
    "print(templates[35].dtype)\n"
   ]
  },
  {
   "cell_type": "code",
   "execution_count": 202,
   "id": "070b1039",
   "metadata": {},
   "outputs": [
    {
     "name": "stdout",
     "output_type": "stream",
     "text": [
      "Recognized digit: 15\n",
      "Best Score: 0.29083353\n"
     ]
    }
   ],
   "source": [
    "best_match_score = 0\n",
    "best_match_index = 0\n",
    "for i, template in enumerate(templates):\n",
    "    match_score = cv2.matchTemplate(first_digit, template, cv2.TM_CCOEFF_NORMED)[0][0]\n",
    "    if match_score > best_match_score:\n",
    "        best_match_score = match_score\n",
    "        best_match_index = i\n",
    "print('Recognized digit:', best_match_index)\n",
    "print('Best Score:', best_match_score)"
   ]
  },
  {
   "cell_type": "code",
   "execution_count": 203,
   "id": "e5ecbfc0",
   "metadata": {},
   "outputs": [
    {
     "data": {
      "text/plain": [
       "<matplotlib.image.AxesImage at 0x1ed72472710>"
      ]
     },
     "execution_count": 203,
     "metadata": {},
     "output_type": "execute_result"
    },
    {
     "data": {
      "image/png": "[encoded data removed]",
      "text/plain": [
       "<Figure size 432x288 with 1 Axes>"
      ]
     },
     "metadata": {
      "needs_background": "light"
     },
     "output_type": "display_data"
    }
   ],
   "source": [
    "plt.imshow(templates[best_match_index],cmap='gray')"
   ]
  }
 ],
 "metadata": {
  "kernelspec": {
   "display_name": "Python 3 (ipykernel)",
   "language": "python",
   "name": "python3"
  },
  "language_info": {
   "codemirror_mode": {
    "name": "ipython",
    "version": 3
   },
   "file_extension": ".py",
   "mimetype": "text/x-python",
   "name": "python",
   "nbconvert_exporter": "python",
   "pygments_lexer": "ipython3",
   "version": "3.10.2"
  }
 },
 "nbformat": 4,
 "nbformat_minor": 5
}
