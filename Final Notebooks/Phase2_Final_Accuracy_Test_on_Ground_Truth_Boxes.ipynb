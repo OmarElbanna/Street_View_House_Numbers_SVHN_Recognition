{
 "cells": [
  {
   "cell_type": "markdown",
   "id": "548ec8fd",
   "metadata": {},
   "source": [
    "# Testing Accuracy Using Ground Truth Boxes"
   ]
  },
  {
   "cell_type": "code",
   "execution_count": 1,
   "id": "830dd381",
   "metadata": {},
   "outputs": [],
   "source": [
    "import cv2\n",
    "import numpy as np\n",
    "import pandas as  pd\n",
    "import matplotlib.pyplot as plt\n",
    "import random\n",
    "import glob"
   ]
  },
  {
   "cell_type": "code",
   "execution_count": 2,
   "id": "2861a3ff",
   "metadata": {},
   "outputs": [],
   "source": [
    "def get_gt_contours(i,digitStruct):\n",
    "    gt_contours = []\n",
    "    boxes = digitStruct.loc[f'{str(i)}.png', 'boxes']\n",
    "    for box in boxes:\n",
    "        x = box['left']\n",
    "        y = box['top']\n",
    "        w = box['width']\n",
    "        h = box['height']\n",
    "        label = int(box['label'])\n",
    "        gt_contours.append([x, y, x+w, y+h,label])\n",
    "    return gt_contours"
   ]
  },
  {
   "cell_type": "code",
   "execution_count": 10,
   "id": "08060986",
   "metadata": {},
   "outputs": [],
   "source": [
    "new_templates = []\n",
    "for i in range(2,92):\n",
    "    tmp = cv2.imread(f'NEW_NUMBERS/{i}.jpg')\n",
    "    gray = cv2.cvtColor(tmp, cv2.COLOR_BGR2GRAY)\n",
    "    thresh = cv2.adaptiveThreshold(gray,255,cv2.ADAPTIVE_THRESH_GAUSSIAN_C,cv2.THRESH_BINARY_INV,11,2)\n",
    "    new_templates.append(thresh)\n",
    "for row in range(1,11):\n",
    "    for col in range(1,11):\n",
    "        template = cv2.imread(f\"Templates/numbers/PineTools.com_2023-05-08_07h18m28s/PineTools.com_files/row-{row}-column-{col}.png\")\n",
    "        gray = cv2.cvtColor(template,cv2.COLOR_BGR2GRAY)\n",
    "        thresh = cv2.adaptiveThreshold(gray,255,cv2.ADAPTIVE_THRESH_GAUSSIAN_C,cv2.THRESH_BINARY_INV,11,2)\n",
    "        new_templates.append(thresh)\n",
    "        \n",
    "for row in [1,2,3,4,6]:\n",
    "    for col in range(0,10):\n",
    "        template = cv2.imread(f\"Templates/numbers/templates/row-{row}-column-{col}.png\")\n",
    "        gray = cv2.cvtColor(template,cv2.COLOR_BGR2GRAY)\n",
    "        thresh = cv2.adaptiveThreshold(gray,255,cv2.ADAPTIVE_THRESH_GAUSSIAN_C,cv2.THRESH_BINARY_INV,11,2)\n",
    "        new_templates.append(thresh)"
   ]
  },
  {
   "cell_type": "code",
   "execution_count": 19,
   "id": "a1d3d2d6",
   "metadata": {},
   "outputs": [
    {
     "name": "stdout",
     "output_type": "stream",
     "text": [
      "240\n"
     ]
    },
    {
     "data": {
      "image/png": "[encoded data removed]",
      "text/plain": [
       "<Figure size 432x288 with 1 Axes>"
      ]
     },
     "metadata": {
      "needs_background": "light"
     },
     "output_type": "display_data"
    }
   ],
   "source": [
    "plt.imshow(new_templates[209],cmap = 'gray')\n",
    "print(len(new_templates))"
   ]
  },
  {
   "cell_type": "code",
   "execution_count": 4,
   "id": "bc7d82f7",
   "metadata": {},
   "outputs": [],
   "source": [
    "win_size = (20, 20)   \n",
    "block_size = (10, 10) \n",
    "block_stride = (5, 5) \n",
    "cell_size = (5, 5)    \n",
    "nbins = 9             \n",
    "\n",
    "hog = cv2.HOGDescriptor(win_size, block_size, block_stride, cell_size, nbins)"
   ]
  },
  {
   "cell_type": "code",
   "execution_count": 20,
   "id": "d4003156",
   "metadata": {},
   "outputs": [],
   "source": [
    "def test_accuracy(dataset,images_number):\n",
    "    digitStruct = pd.read_json(f'data/{dataset}/digitStruct.json')\n",
    "    digitStruct.set_index('filename', inplace=True)\n",
    "    total_accuracy=0\n",
    "    for i in range(1,images_number+1):\n",
    "        img_accuracy=0\n",
    "        img = cv2.imread(f'data/{dataset}/{i}.png')\n",
    "        img_gray = cv2.cvtColor(img,cv2.COLOR_BGR2GRAY)\n",
    "        gt_contours = []\n",
    "        gt_contours = get_gt_contours(i,digitStruct)\n",
    "        gt_contours = [list(map(int,contour)) for contour in gt_contours]\n",
    "        if len(gt_contours) == 0:\n",
    "            continue\n",
    "        for contour in gt_contours:\n",
    "            score=0\n",
    "            [x1, y1, x2, y2,label] = contour\n",
    "            digit = img_gray[y1:y2,x1:x2]\n",
    "            try:\n",
    "                digit_resized = cv2.resize(digit, win_size)\n",
    "            except:\n",
    "\n",
    "                continue\n",
    "            digit_hog = hog.compute(digit_resized).reshape(-1)\n",
    "            scores = []\n",
    "            for i,template in enumerate(new_templates):\n",
    "                template_resized = cv2.resize(template, win_size)\n",
    "                template_hog = hog.compute(template_resized).reshape(-1)\n",
    "                score = np.dot(digit_hog, template_hog)\n",
    "                scores.append(score)\n",
    "            tmp = scores.index(max(scores))\n",
    "            if tmp%10 == label:\n",
    "                img_accuracy+=1\n",
    "        img_accuracy/=len(gt_contours)\n",
    "        total_accuracy+=img_accuracy\n",
    "        \n",
    "\n",
    "    total_accuracy/=images_number\n",
    " \n",
    "\n",
    "    print(f\"Total Accuracy: {total_accuracy*100:0.3f}%\")"
   ]
  },
  {
   "cell_type": "code",
   "execution_count": 22,
   "id": "679726dc",
   "metadata": {},
   "outputs": [
    {
     "name": "stdout",
     "output_type": "stream",
     "text": [
      "Total Accuracy: 47.144%\n"
     ]
    }
   ],
   "source": [
    "test_accuracy('train',33402)"
   ]
  },
  {
   "cell_type": "code",
   "execution_count": 23,
   "id": "aba91ea5",
   "metadata": {},
   "outputs": [
    {
     "name": "stdout",
     "output_type": "stream",
     "text": [
      "Total Accuracy: 41.637%\n"
     ]
    }
   ],
   "source": [
    "test_accuracy('test',13068)"
   ]
  }
 ],
 "metadata": {
  "kernelspec": {
   "display_name": "Python 3 (ipykernel)",
   "language": "python",
   "name": "python3"
  },
  "language_info": {
   "codemirror_mode": {
    "name": "ipython",
    "version": 3
   },
   "file_extension": ".py",
   "mimetype": "text/x-python",
   "name": "python",
   "nbconvert_exporter": "python",
   "pygments_lexer": "ipython3",
   "version": "3.10.2"
  }
 },
 "nbformat": 4,
 "nbformat_minor": 5
}
