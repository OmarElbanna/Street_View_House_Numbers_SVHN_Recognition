{
 "cells": [
  {
   "cell_type": "code",
   "execution_count": 1,
   "id": "55bd0352",
   "metadata": {},
   "outputs": [],
   "source": [
    "from collections import namedtuple\n",
    "import random\n",
    "import cv2\n",
    "import numpy as np\n",
    "import pandas as pd\n",
    "import matplotlib.pyplot as plt\n",
    "import imutils"
   ]
  },
  {
   "cell_type": "code",
   "execution_count": 6,
   "id": "70dc7d44",
   "metadata": {},
   "outputs": [
    {
     "data": {
      "text/plain": [
       "3"
      ]
     },
     "execution_count": 6,
     "metadata": {},
     "output_type": "execute_result"
    }
   ],
   "source": [
    "digitStruct = pd.read_json('digitStruct.json')\n",
    "\n",
    "digitStruct.set_index('filename', inplace=True)\n",
    "len(digitStruct.loc['42.png','boxes'])"
   ]
  },
  {
   "cell_type": "code",
   "execution_count": 3,
   "id": "4584b5c9",
   "metadata": {},
   "outputs": [],
   "source": [
    "def get_gt_contours(i):\n",
    "    gt_contours = []\n",
    "    boxes = digitStruct.loc[f'{str(i)}.png', 'boxes']\n",
    "    for box in boxes:\n",
    "        x = box['left']\n",
    "        y = box['top']\n",
    "        w = box['width']\n",
    "        h = box['height']\n",
    "        gt_contours.append([x, y, x+w, y+h])\n",
    "    return gt_contours"
   ]
  },
  {
   "cell_type": "code",
   "execution_count": 4,
   "id": "991c8070",
   "metadata": {},
   "outputs": [],
   "source": [
    "def bb_intersection_over_union(boxA, boxB):\n",
    "\t# determine the (x, y)-coordinates of the intersection rectangle\n",
    "\txA = max(boxA[0], boxB[0])\n",
    "\tyA = max(boxA[1], boxB[1])\n",
    "\txB = min(boxA[2], boxB[2])\n",
    "\tyB = min(boxA[3], boxB[3])\n",
    "\t\n",
    "\t# compute the area of intersection rectangle\n",
    "\tinterArea = max(0, xB - xA + 1) * max(0, yB - yA + 1)\n",
    "\t\n",
    "    # compute the area of both the prediction and ground-truth\n",
    "\t# rectangles\n",
    "\tboxAArea = (boxA[2] - boxA[0] + 1) * (boxA[3] - boxA[1] + 1)\n",
    "\tboxBArea = (boxB[2] - boxB[0] + 1) * (boxB[3] - boxB[1] + 1)\n",
    "\t# compute the intersection over union by taking the intersection\n",
    "\t# area and dividing it by the sum of prediction + ground-truth\n",
    "\t# areas - the interesection area\n",
    "\tiou = interArea / float(boxAArea + boxBArea - interArea)\n",
    "\t# return the intersection over union value\n",
    "\treturn iou"
   ]
  },
  {
   "cell_type": "code",
   "execution_count": 9,
   "id": "f0ef8122",
   "metadata": {},
   "outputs": [
    {
     "data": {
      "text/plain": [
       "0.6582664710695939"
      ]
     },
     "execution_count": 9,
     "metadata": {},
     "output_type": "execute_result"
    }
   ],
   "source": [
    "recall = 0\n",
    "for i in range(1,33402):\n",
    "    img = cv2.imread(f'train/train/{i}.png')\n",
    "    gray = cv2.cvtColor(img,cv2.COLOR_BGR2GRAY)\n",
    "    bfilter= cv2.bilateralFilter(gray,11,17,17)\n",
    "    edges = cv2.Canny(bfilter,30,150)\n",
    "    keypoints= cv2.findContours(edges, cv2.RETR_TREE, cv2.CHAIN_APPROX_SIMPLE)\n",
    "    contours=imutils.grab_contours(keypoints)\n",
    "    edged_cont = cv2.drawContours(img.copy(), contours, -1, (0,255,0), 1)\n",
    "    sorted_contours=sorted(contours,key=cv2.contourArea,reverse=True)\n",
    "    pred_contours = []\n",
    "    pred_boxes = img.copy()\n",
    "    for contour in sorted_contours:\n",
    "        [x, y, w, h] = cv2.boundingRect(contour)\n",
    "        pred_contours.append([x, y, x+w, y+h])\n",
    "        cv2.rectangle(pred_boxes, (x,y), (x+w,y+h), (0,255,0), 1)\n",
    "    pred_contours = [list(x) for x in set([tuple(L) for L in pred_contours])]\n",
    "    gt_contours = get_gt_contours(i)\n",
    "    match_contours = []\n",
    "    for contour in pred_contours:\n",
    "        for gt_contour in gt_contours:\n",
    "            iou = bb_intersection_over_union(contour, gt_contour)\n",
    "            if iou > 0.5:\n",
    "                match_contours.append({'points': contour, 'iou':iou})\n",
    "    recall+=len(match_contours) / len(digitStruct.loc[f'{i}.png','boxes'])\n",
    "recall/=33402\n",
    "recall"
   ]
  },
  {
   "cell_type": "code",
   "execution_count": null,
   "id": "f7657918",
   "metadata": {},
   "outputs": [],
   "source": []
  }
 ],
 "metadata": {
  "kernelspec": {
   "display_name": "Python 3 (ipykernel)",
   "language": "python",
   "name": "python3"
  },
  "language_info": {
   "codemirror_mode": {
    "name": "ipython",
    "version": 3
   },
   "file_extension": ".py",
   "mimetype": "text/x-python",
   "name": "python",
   "nbconvert_exporter": "python",
   "pygments_lexer": "ipython3",
   "version": "3.10.2"
  }
 },
 "nbformat": 4,
 "nbformat_minor": 5
}
